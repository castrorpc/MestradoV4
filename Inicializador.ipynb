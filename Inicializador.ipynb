{
  "nbformat": 4,
  "nbformat_minor": 0,
  "metadata": {
    "colab": {
      "name": "Inicializador.ipynb",
      "provenance": [],
      "collapsed_sections": [],
      "authorship_tag": "ABX9TyNDZby5Hwdf11XxI246Zb9t",
      "include_colab_link": true
    },
    "kernelspec": {
      "name": "python3",
      "display_name": "Python 3"
    }
  },
  "cells": [
    {
      "cell_type": "markdown",
      "metadata": {
        "id": "view-in-github",
        "colab_type": "text"
      },
      "source": [
        "<a href=\"https://colab.research.google.com/github/castrorpc/MestradoV4/blob/master/Inicializador.ipynb\" target=\"_parent\"><img src=\"https://colab.research.google.com/assets/colab-badge.svg\" alt=\"Open In Colab\"/></a>"
      ]
    },
    {
      "cell_type": "code",
      "metadata": {
        "id": "9HpzLbzcwUIu",
        "colab_type": "code",
        "colab": {
          "base_uri": "https://localhost:8080/",
          "height": 119
        },
        "outputId": "37010791-34f5-4d20-9b09-10154d225e13"
      },
      "source": [
        "!git clone https://github.com/castrorpc/MestradoV4.git"
      ],
      "execution_count": 1,
      "outputs": [
        {
          "output_type": "stream",
          "text": [
            "Cloning into 'MestradoV4'...\n",
            "remote: Enumerating objects: 67, done.\u001b[K\n",
            "remote: Counting objects: 100% (67/67), done.\u001b[K\n",
            "remote: Compressing objects: 100% (50/50), done.\u001b[K\n",
            "remote: Total 67 (delta 21), reused 40 (delta 11), pack-reused 0\u001b[K\n",
            "Unpacking objects: 100% (67/67), done.\n"
          ],
          "name": "stdout"
        }
      ]
    },
    {
      "cell_type": "code",
      "metadata": {
        "id": "cOJxa5FOxGKH",
        "colab_type": "code",
        "colab": {}
      },
      "source": [
        "import sys\n",
        "sys.path.insert(1, 'MestradoV4')"
      ],
      "execution_count": 2,
      "outputs": []
    },
    {
      "cell_type": "code",
      "metadata": {
        "id": "Gcuf9iDmx1WO",
        "colab_type": "code",
        "colab": {
          "base_uri": "https://localhost:8080/",
          "height": 204
        },
        "outputId": "d0b5144b-4397-4a05-ed8d-4bc75f12a3e1"
      },
      "source": [
        "import ANFIS_Model as A_M\n",
        "import csv\n",
        "import tensorflow as tf\n",
        "\n",
        "tf.config.experimental_run_functions_eagerly(True)\n",
        "\n",
        "input_data = []\n",
        "output_data = []\n",
        "with open('MestradoV4/Input_data_RPC.csv') as f:\n",
        "    reader = csv.reader(f)\n",
        "    for row in reader:\n",
        "        input_data.append([float(x) for x in row[:4]])\n",
        "        output_data.append(float(row[4]))\n",
        "\n",
        "\n",
        "model = A_M.Model(4, 2)\n",
        "\n",
        "model.compile(optimizer='adam', loss='mean_squared_error')\n",
        "model.fit(input_data, output_data, epochs=5)\n"
      ],
      "execution_count": 5,
      "outputs": [
        {
          "output_type": "stream",
          "text": [
            "Epoch 1/5\n",
            "2/2 [==============================] - 1s 433ms/step - loss: 35.1841\n",
            "Epoch 2/5\n",
            "2/2 [==============================] - 1s 403ms/step - loss: 35.1197\n",
            "Epoch 3/5\n",
            "2/2 [==============================] - 1s 382ms/step - loss: 35.0573\n",
            "Epoch 4/5\n",
            "2/2 [==============================] - 1s 433ms/step - loss: 34.9966\n",
            "Epoch 5/5\n",
            "2/2 [==============================] - 1s 383ms/step - loss: 34.9344\n"
          ],
          "name": "stdout"
        },
        {
          "output_type": "execute_result",
          "data": {
            "text/plain": [
              "<tensorflow.python.keras.callbacks.History at 0x7f0345cf65f8>"
            ]
          },
          "metadata": {
            "tags": []
          },
          "execution_count": 5
        }
      ]
    }
  ]
}