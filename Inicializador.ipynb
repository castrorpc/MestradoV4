{
  "nbformat": 4,
  "nbformat_minor": 0,
  "metadata": {
    "colab": {
      "name": "Inicializador.ipynb",
      "provenance": [],
      "authorship_tag": "ABX9TyNNun/N9Y2tlTSXtyN6byPW",
      "include_colab_link": true
    },
    "kernelspec": {
      "name": "python3",
      "display_name": "Python 3"
    }
  },
  "cells": [
    {
      "cell_type": "markdown",
      "metadata": {
        "id": "view-in-github",
        "colab_type": "text"
      },
      "source": [
        "<a href=\"https://colab.research.google.com/github/castrorpc/MestradoV4/blob/master/Inicializador.ipynb\" target=\"_parent\"><img src=\"https://colab.research.google.com/assets/colab-badge.svg\" alt=\"Open In Colab\"/></a>"
      ]
    },
    {
      "cell_type": "code",
      "metadata": {
        "id": "9HpzLbzcwUIu",
        "colab_type": "code",
        "colab": {
          "base_uri": "https://localhost:8080/",
          "height": 119
        },
        "outputId": "013a0a50-594f-42c2-99c0-0f9d33501c05"
      },
      "source": [
        "!git clone https://github.com/castrorpc/MestradoV4.git"
      ],
      "execution_count": 1,
      "outputs": [
        {
          "output_type": "stream",
          "text": [
            "Cloning into 'MestradoV4'...\n",
            "remote: Enumerating objects: 54, done.\u001b[K\n",
            "remote: Counting objects: 100% (54/54), done.\u001b[K\n",
            "remote: Compressing objects: 100% (37/37), done.\u001b[K\n",
            "remote: Total 54 (delta 16), reused 40 (delta 11), pack-reused 0\u001b[K\n",
            "Unpacking objects: 100% (54/54), done.\n"
          ],
          "name": "stdout"
        }
      ]
    },
    {
      "cell_type": "code",
      "metadata": {
        "id": "cOJxa5FOxGKH",
        "colab_type": "code",
        "colab": {}
      },
      "source": [
        "import sys\n",
        "sys.path.insert(1, 'MestradoV4')"
      ],
      "execution_count": 2,
      "outputs": []
    },
    {
      "cell_type": "code",
      "metadata": {
        "id": "Gcuf9iDmx1WO",
        "colab_type": "code",
        "colab": {
          "base_uri": "https://localhost:8080/",
          "height": 204
        },
        "outputId": "7629d36f-cd66-44fa-dca5-825471ebcad5"
      },
      "source": [
        "import ANFIS_Model\n",
        "import csv\n",
        "import tensorflow as tf\n",
        "\n",
        "tf.config.experimental_run_functions_eagerly(True)\n",
        "\n",
        "input_data = []\n",
        "output_data = []\n",
        "with open('MestradoV4/test.csv') as f:\n",
        "    reader = csv.reader(f)\n",
        "    for row in reader:\n",
        "        input_data.append([float(x) for x in row[:4]])\n",
        "        output_data.append(float(row[4]))\n",
        "\n",
        "\n",
        "model = ANFIS_Model.Model(4, 2)\n",
        "\n",
        "model.compile(optimizer='adam', loss='mean_squared_error')\n",
        "model.fit(input_data, output_data, epochs=5)\n"
      ],
      "execution_count": 3,
      "outputs": [
        {
          "output_type": "stream",
          "text": [
            "Epoch 1/5\n",
            "2/2 [==============================] - 1s 374ms/step - loss: 34.6228\n",
            "Epoch 2/5\n",
            "2/2 [==============================] - 1s 385ms/step - loss: 34.2917\n",
            "Epoch 3/5\n",
            "2/2 [==============================] - 1s 390ms/step - loss: 33.9622\n",
            "Epoch 4/5\n",
            "2/2 [==============================] - 1s 380ms/step - loss: 33.6343\n",
            "Epoch 5/5\n",
            "2/2 [==============================] - 1s 426ms/step - loss: 33.3082\n"
          ],
          "name": "stdout"
        },
        {
          "output_type": "execute_result",
          "data": {
            "text/plain": [
              "<tensorflow.python.keras.callbacks.History at 0x7fe4b5d96668>"
            ]
          },
          "metadata": {
            "tags": []
          },
          "execution_count": 3
        }
      ]
    }
  ]
}